{
 "cells": [
  {
   "cell_type": "markdown",
   "id": "1014d5f4",
   "metadata": {},
   "source": [
    "SECCION DE CONSULTAS (PARTE B)"
   ]
  },
  {
   "cell_type": "code",
   "execution_count": 25,
   "id": "a16d22ae",
   "metadata": {},
   "outputs": [],
   "source": [
    "import sys\n",
    "import os\n",
    "import importlib\n",
    "\n",
    "sys.path.append(os.path.abspath(\"../consultas\"))  # Ajusta la ruta si es necesario"
   ]
  },
  {
   "cell_type": "markdown",
   "id": "eafd6ec8",
   "metadata": {},
   "source": [
    "PUNTO 1"
   ]
  },
  {
   "cell_type": "code",
   "execution_count": null,
   "id": "ecefd229",
   "metadata": {},
   "outputs": [],
   "source": [
    "#ACA VA LA INVOCACION DEL PUNTO 1"
   ]
  },
  {
   "cell_type": "markdown",
   "id": "747f87e4",
   "metadata": {},
   "source": [
    "PUNTO 2"
   ]
  },
  {
   "cell_type": "code",
   "execution_count": null,
   "id": "72cdb22f",
   "metadata": {},
   "outputs": [],
   "source": [
    "#ACA VA LA INVOCACION DEL PUNTO 2"
   ]
  },
  {
   "cell_type": "markdown",
   "id": "c6e65771",
   "metadata": {},
   "source": [
    "PUNTO 3"
   ]
  },
  {
   "cell_type": "code",
   "execution_count": null,
   "id": "4318bc50",
   "metadata": {},
   "outputs": [],
   "source": [
    "#ACA VA LA INVOCACION DEL PUNTO 3"
   ]
  },
  {
   "cell_type": "markdown",
   "id": "cf96db54",
   "metadata": {},
   "source": [
    "PUNTO 4"
   ]
  },
  {
   "cell_type": "code",
   "execution_count": 4,
   "id": "339865df",
   "metadata": {},
   "outputs": [
    {
     "name": "stdout",
     "output_type": "stream",
     "text": [
      "El año seleccionado fue 2018 y el trimestre fue 1\n",
      "\n",
      "Top 5 aglomerados por porcentaje de educación superior:\n",
      "\n",
      "aglomerado      Total      Con Superior    Porcentaje\n",
      "--------------------------------------------------\n",
      "32              882        272             30.84%\n",
      "23              792        226             28.54%\n",
      "12              418        112             26.79%\n",
      "22              517        132             25.53%\n",
      "2               448        111             24.78%\n"
     ]
    }
   ],
   "source": [
    "import ranking5 as r\n",
    "importlib.reload(r)\n",
    "\n",
    "resultados = r.ranking_englomerados_nivelSup()\n",
    "\n",
    "\n",
    "#Imprimo los resultados\n",
    "print('')\n",
    "print(\"Top 5 aglomerados por porcentaje de educación superior:\\n\")\n",
    "print(\"{:<15} {:<10} {:<15} {:<10}\".format('aglomerado', 'Total', 'Con Superior', 'Porcentaje'))\n",
    "print(\"-\"*50)\n",
    "\n",
    "for aglomerado, data in resultados.items():\n",
    "    print(\"{:<15} {:<10} {:<15} {:.2f}%\".format(\n",
    "         aglomerado,\n",
    "         data['Total'],\n",
    "         data['Tiene Superior'],\n",
    "         data['Porcentaje']\n",
    "    ))\n"
   ]
  },
  {
   "cell_type": "markdown",
   "id": "f3a6c962",
   "metadata": {},
   "source": [
    "PUNTO 5"
   ]
  },
  {
   "cell_type": "code",
   "execution_count": null,
   "id": "65bafe94",
   "metadata": {},
   "outputs": [],
   "source": [
    "#ACA VA LA INVOCACION DEL PUNTO 5"
   ]
  },
  {
   "cell_type": "markdown",
   "id": "96be0fdb",
   "metadata": {},
   "source": [
    "PUNTO 6"
   ]
  },
  {
   "cell_type": "code",
   "execution_count": null,
   "id": "10511c2b",
   "metadata": {},
   "outputs": [],
   "source": [
    "#ACA VA LA INVOCACION DEL PUNTO 6"
   ]
  },
  {
   "cell_type": "markdown",
   "id": "2a9f2d77",
   "metadata": {},
   "source": [
    "PUNTO 7"
   ]
  },
  {
   "cell_type": "code",
   "execution_count": null,
   "id": "a2931462",
   "metadata": {},
   "outputs": [],
   "source": [
    "#ACA VA LA INVOCACION DEL PUNTO 7"
   ]
  },
  {
   "cell_type": "markdown",
   "id": "cbc59351",
   "metadata": {},
   "source": [
    "PUNTO 8"
   ]
  },
  {
   "cell_type": "code",
   "execution_count": null,
   "id": "758c9450",
   "metadata": {},
   "outputs": [],
   "source": [
    "#ACA VA LA INVOCACION DEL PUNTO 8"
   ]
  },
  {
   "cell_type": "markdown",
   "id": "28562b7c",
   "metadata": {},
   "source": [
    "PUNTO 9"
   ]
  },
  {
   "cell_type": "code",
   "execution_count": 40,
   "id": "2b024435",
   "metadata": {},
   "outputs": [
    {
     "name": "stdout",
     "output_type": "stream",
     "text": [
      "Aglomerados disponibles:\n",
      "2 - Gran La Plata\n",
      "3 - Bahía Blanca - Cerri\n",
      "4 - Gran Rosario\n",
      "5 - Gran Santa Fé\n",
      "6 - Gran Paraná\n",
      "7 - Posadas\n",
      "8 - Gran Resistencia\n",
      "9 - Comodoro Rivadavia - Rada Tilly\n",
      "10 - Gran Mendoza\n",
      "12 - Corrientes\n",
      "13 - Gran Córdoba\n",
      "14 - Concordia\n",
      "15 - Formosa\n",
      "17 - Neuquén - Plottier\n",
      "18 - Santiago del Estero - La Banda\n",
      "19 - Jujuy - Palpalá\n",
      "20 - Río Gallegos\n",
      "22 - Gran Catamarca\n",
      "23 - Gran Salta\n",
      "25 - La Rioja\n",
      "26 - Gran San Luis\n",
      "27 - Gran San Juan\n",
      "29 - Gran Tucumán - Tafí Viejo\n",
      "30 - Santa Rosa - Toay\n",
      "31 - Ushuaia - Río Grande\n",
      "32 - Ciudad Autonoma de Buenos Aires\n",
      "33 - Partidos del GBA\n",
      "34 - Mar del Plata\n",
      "36 - Río Cuarto\n",
      "38 - San Nicolás - Villa Constitución\n",
      "91 - Rawson - Trelew\n",
      "93 - Viedma - Carmen de Patagones\n",
      "\n",
      "\n",
      "\n",
      "Planilla de personas +18 según su nivel de estudios para el aglomerado de Gran Rosario:\n",
      "Año-trimestre        Primario inc.        Primario comp.       Secundario inc.      Secundario comp.     Superior            \n",
      "------------------------------------------------------------------------------------------------------------------------\n",
      "2018 - T 1           279                  322                  364                  415                  464                 \n"
     ]
    }
   ],
   "source": [
    "import mayores_nivel_ed\n",
    "importlib.reload(mayores_nivel_ed)\n",
    "\n",
    "mayores_nivel_ed.planilla_mas18_conAglomerado()"
   ]
  }
 ],
 "metadata": {
  "kernelspec": {
   "display_name": "venv",
   "language": "python",
   "name": "python3"
  },
  "language_info": {
   "codemirror_mode": {
    "name": "ipython",
    "version": 3
   },
   "file_extension": ".py",
   "mimetype": "text/x-python",
   "name": "python",
   "nbconvert_exporter": "python",
   "pygments_lexer": "ipython3",
   "version": "3.12.3"
  }
 },
 "nbformat": 4,
 "nbformat_minor": 5
}
