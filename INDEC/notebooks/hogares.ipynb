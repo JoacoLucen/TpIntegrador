{
 "cells": [
  {
   "cell_type": "markdown",
   "id": "d5ede923",
   "metadata": {},
   "source": [
    "JUNTO LOS DATASETS"
   ]
  },
  {
   "cell_type": "code",
   "execution_count": 3,
   "id": "cfe5af42",
   "metadata": {},
   "outputs": [],
   "source": [
    "import sys\n",
    "import os\n",
    "import importlib\n",
    "\n",
    "sys.path.append(os.path.abspath(\"../src\"))  # Ajusta la ruta si es necesario"
   ]
  },
  {
   "cell_type": "code",
   "execution_count": 4,
   "id": "af21d474",
   "metadata": {},
   "outputs": [
    {
     "name": "stdout",
     "output_type": "stream",
     "text": [
      "✅ Se cargaron 56439 registros de hogares.\n"
     ]
    }
   ],
   "source": [
    "import DataSetTxt\n",
    "\n",
    "# Cargar datos\n",
    "importlib.reload(DataSetTxt)\n",
    "hogares = DataSetTxt.cargar_diccionario('hogares')\n"
   ]
  }
 ],
 "metadata": {
  "kernelspec": {
   "display_name": "venv",
   "language": "python",
   "name": "python3"
  },
  "language_info": {
   "codemirror_mode": {
    "name": "ipython",
    "version": 3
   },
   "file_extension": ".py",
   "mimetype": "text/x-python",
   "name": "python",
   "nbconvert_exporter": "python",
   "pygments_lexer": "ipython3",
   "version": "3.12.3"
  }
 },
 "nbformat": 4,
 "nbformat_minor": 5
}
