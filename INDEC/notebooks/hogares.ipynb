{
 "cells": [
  {
   "cell_type": "markdown",
   "id": "d5ede923",
   "metadata": {},
   "source": [
    "JUNTO LOS DATASETS"
   ]
  },
  {
   "cell_type": "code",
   "execution_count": 1,
   "id": "cfe5af42",
   "metadata": {},
   "outputs": [],
   "source": [
    "import sys\n",
    "import os\n",
    "import importlib\n",
    "\n",
    "sys.path.append(os.path.abspath(\"../src\"))  # Ajusta la ruta si es necesario"
   ]
  },
  {
   "cell_type": "code",
   "execution_count": 2,
   "id": "550dfe1e",
   "metadata": {},
   "outputs": [],
   "source": [
    "# from pathlib  import Path\n",
    "# import DataSet as ds\n",
    "# folder = Path('../utils/data_zip')\n",
    "\n",
    "# hogares = ds.dataset_hogares(folder)\n",
    "# for d in hogares:\n",
    "#     if '' in d:\n",
    "#         del d['']\n",
    "#     for clave, valor in d.items():\n",
    "#         # si es string y está vacío o sólo espacios…\n",
    "#         if isinstance(valor, str) and valor.strip() == '':\n",
    "#             d[clave] = 'sin información'"
   ]
  },
  {
   "cell_type": "code",
   "execution_count": 3,
   "id": "af21d474",
   "metadata": {},
   "outputs": [
    {
     "name": "stdout",
     "output_type": "stream",
     "text": [
      "✅ Se cargaron 112360 registros de hogares.\n"
     ]
    }
   ],
   "source": [
    "import DataSetTxt\n",
    "\n",
    "# Cargar datos\n",
    "importlib.reload(DataSetTxt)\n",
    "hogares = DataSetTxt.cargar_diccionario('hogares')\n"
   ]
  },
  {
   "cell_type": "code",
   "execution_count": 4,
   "id": "4222c986",
   "metadata": {},
   "outputs": [],
   "source": [
    "import funcion_materialhogares\n",
    "hogares = funcion_materialhogares.MATERIAL_TECHUMBRE(hogares)"
   ]
  },
  {
   "cell_type": "code",
   "execution_count": 5,
   "id": "4a80056d",
   "metadata": {},
   "outputs": [
    {
     "name": "stdout",
     "output_type": "stream",
     "text": [
      "✅ Archivo HogaresTotales guardado en: C:\\Users\\lauta\\OneDrive\\Escritorio\\grpo\\INDEC\\utils\\HogaresTotales.csv\n"
     ]
    }
   ],
   "source": [
    "DataSetTxt.guardar_como_csv ('HogaresTotales',hogares)"
   ]
  }
 ],
 "metadata": {
  "kernelspec": {
   "display_name": "Python 3",
   "language": "python",
   "name": "python3"
  },
  "language_info": {
   "codemirror_mode": {
    "name": "ipython",
    "version": 3
   },
   "file_extension": ".py",
   "mimetype": "text/x-python",
   "name": "python",
   "nbconvert_exporter": "python",
   "pygments_lexer": "ipython3",
   "version": "3.12.9"
  }
 },
 "nbformat": 4,
 "nbformat_minor": 5
}
